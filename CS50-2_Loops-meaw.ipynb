{
 "cells": [
  {
   "cell_type": "markdown",
   "metadata": {},
   "source": [
    "# Week 2. Loops\n",
    "while · for · list · range · continue · break · list · len · dict · None"
   ]
  },
  {
   "cell_type": "markdown",
   "metadata": {},
   "source": [
    "### 2.1 while"
   ]
  },
  {
   "cell_type": "code",
   "execution_count": 109,
   "metadata": {},
   "outputs": [
    {
     "name": "stdout",
     "output_type": "stream",
     "text": [
      "meaw\n",
      "meaw\n",
      "meaw\n"
     ]
    }
   ],
   "source": [
    "# Program that meaws three times\n",
    "i = 3\n",
    "while i != 0:\n",
    "    print('meaw')\n",
    "    i = i - 1"
   ]
  },
  {
   "cell_type": "code",
   "execution_count": 110,
   "metadata": {},
   "outputs": [
    {
     "name": "stdout",
     "output_type": "stream",
     "text": [
      "meaw\n",
      "meaw\n",
      "meaw\n"
     ]
    }
   ],
   "source": [
    "# Program that meaws three times\n",
    "i = 0\n",
    "while i < 3:\n",
    "    print('meaw')\n",
    "    i += 1"
   ]
  },
  {
   "cell_type": "markdown",
   "metadata": {},
   "source": [
    "### 2.2. for\n",
    "Allow to iterate over a list of items."
   ]
  },
  {
   "cell_type": "code",
   "execution_count": 111,
   "metadata": {},
   "outputs": [
    {
     "name": "stdout",
     "output_type": "stream",
     "text": [
      "meaw\n",
      "meaw\n",
      "meaw\n"
     ]
    }
   ],
   "source": [
    "# Program that meaws three times using list.\n",
    "# The list is defined by the [].\n",
    "for i in [0, 1, 2]:\n",
    "    print('meaw')"
   ]
  },
  {
   "cell_type": "markdown",
   "metadata": {},
   "source": [
    "### 2.4. range"
   ]
  },
  {
   "cell_type": "code",
   "execution_count": 112,
   "metadata": {},
   "outputs": [
    {
     "name": "stdout",
     "output_type": "stream",
     "text": [
      "meaw\n",
      "meaw\n",
      "meaw\n"
     ]
    }
   ],
   "source": [
    "# Program that meaws three times using list.\n",
    "# Function 'range', thar returns a range() of values.\n",
    "for i in range(3):\n",
    "    print('meaw')"
   ]
  },
  {
   "cell_type": "code",
   "execution_count": 113,
   "metadata": {},
   "outputs": [
    {
     "name": "stdout",
     "output_type": "stream",
     "text": [
      "meaw\n",
      "meaw\n",
      "meaw\n"
     ]
    }
   ],
   "source": [
    "# Program that meaws three times using list.\n",
    "# Using math.\n",
    "print('meaw\\n' * 3, end='')"
   ]
  },
  {
   "cell_type": "markdown",
   "metadata": {},
   "source": [
    "### 2.3. Validating Input"
   ]
  },
  {
   "cell_type": "code",
   "execution_count": 1,
   "metadata": {},
   "outputs": [
    {
     "name": "stdout",
     "output_type": "stream",
     "text": [
      "meaw\n",
      "meaw\n",
      "meaw\n",
      "meaw\n"
     ]
    }
   ],
   "source": [
    "while True:\n",
    "    n = int(input(\"What's n? \"))\n",
    "    if n > 0:\n",
    "        break\n",
    "\n",
    "for _ in range(n):\n",
    "    print('meaw')"
   ]
  },
  {
   "cell_type": "code",
   "execution_count": null,
   "metadata": {},
   "outputs": [
    {
     "name": "stdout",
     "output_type": "stream",
     "text": [
      "meow\n",
      "meow\n",
      "meow\n"
     ]
    }
   ],
   "source": [
    "def main():\n",
    "    number = get_number()\n",
    "    meow(number)\n",
    "\n",
    "def get_number():\n",
    "    while True:\n",
    "        n = int(input(\"What's n?\"))\n",
    "        if n > 0:\n",
    "            break\n",
    "    return n\n",
    "\n",
    "def meow(n):\n",
    "    for _ in range(n):\n",
    "        print(\"meow\")\n",
    "\n",
    "main()"
   ]
  },
  {
   "cell_type": "markdown",
   "metadata": {},
   "source": [
    "### 2.4. Iteration with List"
   ]
  },
  {
   "cell_type": "code",
   "execution_count": null,
   "metadata": {},
   "outputs": [
    {
     "name": "stdout",
     "output_type": "stream",
     "text": [
      "Hermione\n",
      "Harry\n",
      "Ron\n"
     ]
    }
   ],
   "source": [
    "students = [\"Hermione\", \"Harry\", \"Ron\"]\n",
    "\n",
    "print(students[0])\n",
    "print(students[1])\n",
    "print(students[2])"
   ]
  },
  {
   "cell_type": "code",
   "execution_count": null,
   "metadata": {},
   "outputs": [
    {
     "name": "stdout",
     "output_type": "stream",
     "text": [
      "Hermione\n",
      "Harry\n",
      "Ron\n"
     ]
    }
   ],
   "source": [
    "students = [\"Hermione\", \"Harry\", \"Ron\"]\n",
    "\n",
    "for students in students:\n",
    "    print(students)"
   ]
  },
  {
   "cell_type": "markdown",
   "metadata": {},
   "source": [
    "range function is for numbers only, so we need the len function to translate variables which are not numbers into numbers."
   ]
  },
  {
   "cell_type": "code",
   "execution_count": null,
   "metadata": {},
   "outputs": [
    {
     "name": "stdout",
     "output_type": "stream",
     "text": [
      "Hermione\n",
      "Harry\n",
      "Ron\n"
     ]
    }
   ],
   "source": [
    "students = [\"Hermione\", \"Harry\", \"Ron\"]\n",
    "\n",
    "for i in range(len(students)):\n",
    "    print(students[i])"
   ]
  },
  {
   "cell_type": "code",
   "execution_count": null,
   "metadata": {},
   "outputs": [
    {
     "name": "stdout",
     "output_type": "stream",
     "text": [
      "0 Hermione\n",
      "1 Harry\n",
      "2 Ron\n"
     ]
    }
   ],
   "source": [
    "students = [\"Hermione\", \"Harry\", \"Ron\"]\n",
    "\n",
    "for i in range(len(students)):\n",
    "    print(i, students[i])"
   ]
  },
  {
   "cell_type": "markdown",
   "metadata": {},
   "source": [
    "### 2.5. dict\n",
    "dict or dictionaries, are a data structure that allows you to asociate one value with another. Like in real life, words and definitions. "
   ]
  },
  {
   "cell_type": "code",
   "execution_count": null,
   "metadata": {},
   "outputs": [
    {
     "name": "stdout",
     "output_type": "stream",
     "text": [
      "Gryffindor\n",
      "Gryffindor\n",
      "Gryffindor\n",
      "Slythering\n"
     ]
    }
   ],
   "source": [
    "students = {\n",
    "    \"Hermione\": \"Gryffindor\",\n",
    "    \"Harry\": \"Gryffindor\",\n",
    "    \"Ron\": \"Gryffindor\",\n",
    "    \"Draco\": \"Slythering\"\n",
    "}\n",
    "\n",
    "print(students[\"Hermione\"])\n",
    "print(students[\"Harry\"])\n",
    "print(students[\"Ron\"])\n",
    "print(students[\"Draco\"])"
   ]
  },
  {
   "cell_type": "code",
   "execution_count": null,
   "metadata": {},
   "outputs": [
    {
     "name": "stdout",
     "output_type": "stream",
     "text": [
      "Hermione, Gryffindor\n",
      "Harry, Gryffindor\n",
      "Ron, Gryffindor\n",
      "Draco, Slythering\n"
     ]
    }
   ],
   "source": [
    "students = {\n",
    "    \"Hermione\": \"Gryffindor\",\n",
    "    \"Harry\": \"Gryffindor\",\n",
    "    \"Ron\": \"Gryffindor\",\n",
    "    \"Draco\": \"Slythering\"\n",
    "}\n",
    "\n",
    "for student in students:\n",
    "    print(student, students[student], sep=\", \")"
   ]
  },
  {
   "cell_type": "markdown",
   "metadata": {},
   "source": [
    "### 2.6. List of dictionaries"
   ]
  },
  {
   "cell_type": "code",
   "execution_count": null,
   "metadata": {},
   "outputs": [
    {
     "name": "stdout",
     "output_type": "stream",
     "text": [
      "Hermione, Gryffindor, Otter\n",
      "Harry, Gryffindor, Stag\n",
      "Ron, Gryffindor, Jack Russell terrier\n",
      "Draco, Slythering, None\n"
     ]
    }
   ],
   "source": [
    "students = [\n",
    "    {\"name\": \"Hermione\", \"house\": \"Gryffindor\", \"patronus\": \"Otter\"},\n",
    "    {\"name\": \"Harry\", \"house\": \"Gryffindor\", \"patronus\": \"Stag\"},\n",
    "    {\"name\": \"Ron\", \"house\": \"Gryffindor\", \"patronus\": \"Jack Russell terrier\"},\n",
    "    {\"name\": \"Draco\", \"house\": \"Slythering\", \"patronus\": None}\n",
    "]\n",
    "\n",
    "for student in students:\n",
    "    print(student[\"name\"], student[\"house\"], student[\"patronus\"], sep=\", \")"
   ]
  },
  {
   "cell_type": "markdown",
   "metadata": {},
   "source": [
    "### 2.7. Nested Loops"
   ]
  },
  {
   "cell_type": "code",
   "execution_count": null,
   "metadata": {},
   "outputs": [
    {
     "name": "stdout",
     "output_type": "stream",
     "text": [
      "#\n",
      "#\n",
      "#\n"
     ]
    }
   ],
   "source": [
    "def main():\n",
    "    print_column(3)\n",
    "\n",
    "def print_column(height):\n",
    "    for _ in range(height):\n",
    "        print(\"#\")\n",
    "\n",
    "main()"
   ]
  },
  {
   "cell_type": "code",
   "execution_count": null,
   "metadata": {},
   "outputs": [
    {
     "name": "stdout",
     "output_type": "stream",
     "text": [
      "????\n"
     ]
    }
   ],
   "source": [
    "def main():\n",
    "    print_row(4)\n",
    "\n",
    "def print_row(width):\n",
    "    print(\"?\" * width)\n",
    "\n",
    "main()"
   ]
  },
  {
   "cell_type": "code",
   "execution_count": null,
   "metadata": {},
   "outputs": [
    {
     "name": "stdout",
     "output_type": "stream",
     "text": [
      "###\n",
      "###\n",
      "###\n"
     ]
    }
   ],
   "source": [
    "def main():\n",
    "    print_square(3)\n",
    "\n",
    "def print_square(size):\n",
    "    \n",
    "    # For each row in square\n",
    "    for i in range(size):\n",
    "\n",
    "        # For each brick in square\n",
    "        for j in range(size):\n",
    "\n",
    "            # Print brick\n",
    "            print(\"#\", end=\"\")\n",
    "        \n",
    "        print()\n",
    "\n",
    "main()"
   ]
  },
  {
   "cell_type": "code",
   "execution_count": null,
   "metadata": {},
   "outputs": [
    {
     "name": "stdout",
     "output_type": "stream",
     "text": [
      "###\n",
      "###\n",
      "###\n"
     ]
    }
   ],
   "source": [
    "def main():\n",
    "    print_square(3)\n",
    "\n",
    "def print_square(size):\n",
    "    for i in range(size):\n",
    "        print(\"#\" * size)\n",
    "\n",
    "main()"
   ]
  },
  {
   "cell_type": "markdown",
   "metadata": {},
   "source": [
    "# Problem set 2\n",
    "### Camel"
   ]
  },
  {
   "cell_type": "code",
   "execution_count": null,
   "metadata": {},
   "outputs": [
    {
     "name": "stdout",
     "output_type": "stream",
     "text": [
      "snake_case hola_pepe\n"
     ]
    }
   ],
   "source": [
    "# Get user input\n",
    "camelCase = input(\"camelCase: \" )\n",
    "\n",
    "# Print \"snake_case: \"\n",
    "print(\"snake_case \", end=\"\")\n",
    "\n",
    "# Loop throught every letter\n",
    "for word in camelCase:\n",
    "    # Check if letter is upper case\n",
    "    if word.isupper():\n",
    "        # Print underscores and the letter in lowercase\n",
    "        print(\"_\" + word.lower(), end=\"\")\n",
    "    \n",
    "    # Otherwise, print letter\n",
    "    else:\n",
    "        print(word, end=\"\")\n",
    "\n",
    "# Print space in the end\n",
    "print()"
   ]
  },
  {
   "cell_type": "markdown",
   "metadata": {},
   "source": [
    "### Coke machine"
   ]
  },
  {
   "cell_type": "code",
   "execution_count": null,
   "metadata": {},
   "outputs": [
    {
     "name": "stdout",
     "output_type": "stream",
     "text": [
      "Amount Due:  50\n",
      "Amount Due:  40\n",
      "Amount Due:  40\n",
      "Amount Due:  40\n",
      "Amount Due:  15\n",
      "Amount Due:  15\n",
      "Amount Due:  5\n",
      "Change Owed:  5\n"
     ]
    }
   ],
   "source": [
    "\n",
    "# Variable to keep track\n",
    "coke_price = 50\n",
    "\n",
    "# Loop until coke_price is greater than 0\n",
    "while coke_price > 0:\n",
    "    # Print the amount due\n",
    "    print(\"Amount Due: \", coke_price)\n",
    "    # Ask user to insert coin\n",
    "    coin  = int(input(\"Insert Coin: \"))\n",
    "    # Check if coin is 25, 10, or 5 cents\n",
    "    if coin in [25, 10, 5]:\n",
    "        # Substract value from coke_price\n",
    "        coke_price -= coin\n",
    "\n",
    "# Calculate change_owed\n",
    "change_owed = abs(coke_price)\n",
    "# Print the result\n",
    "print(\"Change Owed: \", change_owed)\n",
    "\n"
   ]
  },
  {
   "cell_type": "markdown",
   "metadata": {},
   "source": [
    "### twttr"
   ]
  },
  {
   "cell_type": "code",
   "execution_count": 115,
   "metadata": {},
   "outputs": [
    {
     "name": "stdout",
     "output_type": "stream",
     "text": [
      "Output: Twttr\n"
     ]
    }
   ],
   "source": [
    "# program that prompts the user for a str of text and then outputs that same text but with all vowels (A, E, I, O, and U) omitted\n",
    "# Gets the input\n",
    "Input = input(\"Input: \" )\n",
    "\n",
    "# Prints the output\n",
    "print(\"Output: \", end=\"\")\n",
    "\n",
    "# Loop throught every letter\n",
    "for vocal in Input:\n",
    "    # Check if letter is upper case\n",
    "    if not vocal.lower() in [\"a\", \"e\", \"i\", \"o\", \"u\"]:\n",
    "        # Print underscores and the letter in lowercase\n",
    "        print(vocal, end=\"\")\n",
    "\n",
    "# Print space in the end\n",
    "print()"
   ]
  },
  {
   "cell_type": "markdown",
   "metadata": {},
   "source": [
    "### Vanity plates"
   ]
  },
  {
   "cell_type": "code",
   "execution_count": 7,
   "metadata": {},
   "outputs": [
    {
     "name": "stdout",
     "output_type": "stream",
     "text": [
      "Valid\n"
     ]
    }
   ],
   "source": [
    "# Program that prompts the user for a vanity plate and then output Valid if meets all of the requirements or Invalid if it does not.\n",
    "# Assume that any letters in the user’s input will be uppercase.\n",
    "def main():\n",
    "    plate = input(\"Plate: \")\n",
    "    if is_valid(plate):\n",
    "        print(\"Valid\")\n",
    "    else:\n",
    "        print(\"Invalid\")\n",
    "\n",
    "def is_valid(s):\n",
    "     # “… vanity plates may contain a maximum of 6 characters (letters or numbers) and a minimum of 2 characters.”\n",
    "    if len(s) >= 2 and len(s) <= 6:\n",
    "        # “All vanity plates must start with at least two letters.”\n",
    "        if s.isalpha():\n",
    "            return True\n",
    "        elif s.isalnum() and s[0:2].isalpha():\n",
    "            # “Numbers cannot be used in the middle of a plate; they must come at the end.\n",
    "            # For example, AAA222 would be an acceptable … vanity plate; AAA22A would not be acceptable. The first number used cannot be a ‘0’.”\n",
    "            for char in s:\n",
    "                if char.isdigit():\n",
    "                    position = s.index(char)\n",
    "                    if s[position:].isdigit() and int(char) !=0:\n",
    "                        return True\n",
    "                    \n",
    "                    else:\n",
    "                        return False\n",
    "        return False\n",
    "\n",
    "\n",
    "main()"
   ]
  },
  {
   "cell_type": "markdown",
   "metadata": {},
   "source": [
    "### Nutrition"
   ]
  },
  {
   "cell_type": "code",
   "execution_count": 6,
   "metadata": {},
   "outputs": [
    {
     "name": "stdout",
     "output_type": "stream",
     "text": [
      "Calories: 80\n"
     ]
    }
   ],
   "source": [
    "# program that prompts users to input a fruit (case-insensitively) \n",
    "# and then outputs the number of calories in one portion of that fruit, per the FDA’s poster for fruits, which is also available as text.\n",
    "\n",
    "# Dictionary with fruits and each calories\n",
    "fruits = {\n",
    "    'apple': 130,\n",
    "    'avocado': 50,\n",
    "    'banana': 110,\n",
    "    'cantaloupe': 50,\n",
    "    'grapefruit': 60,\n",
    "    'grapes': 90,\n",
    "    'honeydew melon': 50,\n",
    "    'kiwifruit': 90,\n",
    "    'lemon': 15,\n",
    "    'lime': 20,\n",
    "    'nectarine': 60,\n",
    "    'orange': 80,\n",
    "    'peach': 60,\n",
    "    'pear': 100,\n",
    "    'pineapple': 50,\n",
    "    'plumps': 70,\n",
    "    'strawberries': 50,\n",
    "    'sweet cherries': 100,\n",
    "    'tangerine': 50,\n",
    "    'watermelon': 80,\n",
    "}\n",
    "# input\n",
    "ask_fruit = input('Item: ')\n",
    "\n",
    "# Loop throught fruits dictionary\n",
    "for key in fruits:\n",
    "    if key in ask_fruit.lower():\n",
    "        # Prints the calories\n",
    "        print('Calories:', fruits[key])"
   ]
  }
 ],
 "metadata": {
  "kernelspec": {
   "display_name": "Python 3",
   "language": "python",
   "name": "python3"
  },
  "language_info": {
   "codemirror_mode": {
    "name": "ipython",
    "version": 3
   },
   "file_extension": ".py",
   "mimetype": "text/x-python",
   "name": "python",
   "nbconvert_exporter": "python",
   "pygments_lexer": "ipython3",
   "version": "3.12.1"
  }
 },
 "nbformat": 4,
 "nbformat_minor": 2
}
