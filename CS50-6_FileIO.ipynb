{
 "cells": [
  {
   "cell_type": "markdown",
   "metadata": {},
   "source": [
    "# Week 6. File I/O\n",
    "List · open · with · sorted · CSV· dict · csv· PIL\n",
    " \n",
    "With files you can hang on to information long term. And File I/O within the context of programming is all about writing code that can read from, that is load information from, or write to, that is save information to, files themselves."
   ]
  },
  {
   "cell_type": "markdown",
   "metadata": {},
   "source": [
    "### 6.1. List"
   ]
  },
  {
   "cell_type": "code",
   "execution_count": 13,
   "metadata": {},
   "outputs": [
    {
     "name": "stdout",
     "output_type": "stream",
     "text": [
      "hello, Miau\n"
     ]
    }
   ],
   "source": [
    "# names.py with a familiar data structure, a familiar type of variable that we've seen before\n",
    "name = input(\"What's your name? \")\n",
    "print(f\"hello, {name}\")"
   ]
  },
  {
   "cell_type": "markdown",
   "metadata": {},
   "source": [
    "Suppose, though, that we wanted to add support not just for one name, but multiple names, maybe three names for the sake of discussion so that we can begin to accumulate some amount of information in the program, such that it's really going to be a downside if we keep throwing it away once the program exits. Well, let me go back into names.py up here at top. \n",
    "\n",
    "Let me proactively give myself a variable, this time called **names**, plural. And set it equal to an **empty list**. \n",
    "- **square bracket notation**, especially if nothing's inside of it, just means, give me an empty list that we can add things to over time. \n",
    "- **_**, I could use a variable here, like **i**, which is conventional. But if I'm not actually using **i** explicitly on any subsequent lines, I might as well just use **underscore**, which is a Pythonic convention. And actually, if I want to clean this up a little bit right now, notice that my name variable doesn't really need to exist because I'm assigning it a value and then immediately appending it."
   ]
  },
  {
   "cell_type": "code",
   "execution_count": 14,
   "metadata": {},
   "outputs": [
    {
     "name": "stdout",
     "output_type": "stream",
     "text": [
      "hello, Harry\n",
      "hello, Hermione\n",
      "hello, Ron\n"
     ]
    }
   ],
   "source": [
    "# names.py \n",
    "names = []\n",
    "\n",
    "for _ in range(3):\n",
    "    name = input(\"What's your name? \")\n",
    "    names.append(name)\n",
    "\n",
    "for name in sorted(names):\n",
    "    print(f\"hello, {name}\")"
   ]
  },
  {
   "cell_type": "code",
   "execution_count": null,
   "metadata": {},
   "outputs": [
    {
     "name": "stdout",
     "output_type": "stream",
     "text": [
      "hello, Harry Ron Herione\n",
      "hello, Harry\n",
      "hello, Hermione\n",
      "hello, Ron\n"
     ]
    }
   ],
   "source": [
    "# names.py other option not that readable but valid as well\n",
    "names = []\n",
    "\n",
    "for _ in range(3):\n",
    "    names.append(input(\"What's your name? \"))\n",
    "print(f\"hello, {name}\")\n",
    "\n",
    "for name in sorted(names):\n",
    "    print(f\"hello, {name}\")"
   ]
  },
  {
   "cell_type": "markdown",
   "metadata": {},
   "source": [
    "And if this is a bigger program than this, that might actually be pretty painful to have to re-input the same information again, and again, and again. Wouldn't it be nice, like most any program today on a phone, or a laptop, or desktop, or cloud to be able to save this information somehow instead? And that's where File I/O comes in. And that's where files come in. They are a way of storing information persistently on your own phone, or Mac, or PC, or some cloud server's disk so that they're there when you come back and run the program again."
   ]
  },
  {
   "cell_type": "markdown",
   "metadata": {},
   "source": [
    "### 6.2. Open\n",
    "In Python, there's this function called open whose purpose in life is to do just that, to open a file, but to open it up programmatically so that you, the programmer, can actually read information from it or write information to it. \n",
    "\n",
    "[docs.python3-open](docs.python.org/3/library/functions.html#open)\n",
    "\n",
    "- **\"w\"**, is for Write, and that's going to tell open to open the file in a way that's going to allow me to change the content. And better yet, if it doesn't even exist yet, it's going to create the file for me. \n",
    "- **\"a\"**, is for Append, which means to add to the bottom, to the bottom, to the bottom, again and again."
   ]
  },
  {
   "cell_type": "code",
   "execution_count": null,
   "metadata": {},
   "outputs": [],
   "source": [
    "# names.py \n",
    "name = input(\"What's your name? \")\n",
    "\n",
    "file = open(\"names.txt\", \"w\")\n",
    "file.write(name)\n",
    "file.close()"
   ]
  },
  {
   "cell_type": "markdown",
   "metadata": {},
   "source": [
    "- **file.write(f\"{name}/n\")**, just print the name and the new line all at once."
   ]
  },
  {
   "cell_type": "code",
   "execution_count": null,
   "metadata": {},
   "outputs": [],
   "source": [
    "# names.py \n",
    "name = input(\"What's your name? \")\n",
    "\n",
    "file = open(\"names.txt\", \"a\")\n",
    "file.write(f\"{name}/n\")\n",
    "file.close()"
   ]
  },
  {
   "cell_type": "markdown",
   "metadata": {},
   "source": [
    "### 6.3. with\n",
    "More Pythonic when manipulating files is to do this, to introduce this other keyword called **with** that allows you to specify that, in this context, I want you to open and automatically close some file. \n",
    "\n",
    "**With** allows you to forgive to close the file."
   ]
  },
  {
   "cell_type": "code",
   "execution_count": 19,
   "metadata": {},
   "outputs": [],
   "source": [
    "# names.py \n",
    "name = input(\"What's your name? \")\n",
    "\n",
    "with open(\"names.txt\", \"a\") as file:\n",
    "    file.write(f\"{name}/n\")"
   ]
  },
  {
   "cell_type": "markdown",
   "metadata": {},
   "source": [
    "- **\"r\"**, allows you to read the file.\n",
    "- **lines = file.readlines()**, open files come with a special method whose purpose in life is to read all the lines from the file and return them to me as a list."
   ]
  },
  {
   "cell_type": "code",
   "execution_count": 21,
   "metadata": {},
   "outputs": [
    {
     "name": "stdout",
     "output_type": "stream",
     "text": [
      "hello, HarryHermione/nharry/n\n"
     ]
    }
   ],
   "source": [
    "# names.py \n",
    "with open(\"names.txt\", \"r\") as file:\n",
    "    lines = file.readlines()\n",
    "\n",
    "for line in lines:\n",
    "    print(\"hello,\", line.rstrip())"
   ]
  },
  {
   "cell_type": "markdown",
   "metadata": {},
   "source": [
    "To make de code more clear we can use de loop sintax:\n",
    "- **for** x **in** ***file***:"
   ]
  },
  {
   "cell_type": "code",
   "execution_count": 22,
   "metadata": {},
   "outputs": [
    {
     "name": "stdout",
     "output_type": "stream",
     "text": [
      "hello, HarryHermione/nharry/n\n"
     ]
    }
   ],
   "source": [
    "# names.py \n",
    "with open(\"names.txt\", \"r\") as file:\n",
    "    for line in file:\n",
    "        print(\"hello,\", line.rstrip())"
   ]
  },
  {
   "cell_type": "markdown",
   "metadata": {},
   "source": [
    "### 6.4. sorted\n",
    "Is a function which will return a sorted version of that list.\n",
    "\n",
    "I should note that if we just want to sort the file, we can actually do this even more simply in Python, particularly by not bothering with this names list, nor the second for loop. And let me go ahead and, instead, just do more simply this. Let me go ahead and tell Python that we want the file itself to be sorted using that same sorted function, but this time on the file itself. \n",
    "\n",
    "And then inside of that for loop, let's just go ahead and print right away our hello, comma, followed by the line itself, but still stripping off of the end of it any white space therein. If we go ahead and run this same program now with python of names.py and hit Enter, we get the same result. But of course, it's a lot more compact. "
   ]
  },
  {
   "cell_type": "code",
   "execution_count": 23,
   "metadata": {},
   "outputs": [
    {
     "name": "stdout",
     "output_type": "stream",
     "text": [
      "hello, HarryHermione/nharry/n\n"
     ]
    }
   ],
   "source": [
    "# names.py \n",
    "names = []\n",
    "\n",
    "with open(\"names.txt\") as file:\n",
    "    for line in file:\n",
    "        names.append(line.rstrip())\n",
    "\n",
    "for name in sorted(names):\n",
    "    print(f\"hello, {name}\")"
   ]
  },
  {
   "cell_type": "code",
   "execution_count": null,
   "metadata": {},
   "outputs": [],
   "source": [
    "# names.py more compact\n",
    "with open(\"names.txt\") as file:\n",
    "    for line in sorted(file):\n",
    "        print(f\"hello, line.rstrip{name}\")\n",
    "        names.append(line.rstrip())"
   ]
  },
  {
   "cell_type": "markdown",
   "metadata": {},
   "source": [
    "[docs.python3-sorted](docs.python.org/3/library/functions.html#sorted)\n",
    "The sorted function takes the first argument, generally known as an iterable. And something that's iterable means that you can iterate over it. \n",
    "\n",
    "That is you can loop over it one thing at a time. What the rest of this line here means is that you can specify a key, like, how you want to sort it, but more on that later. But this last named parameter here is reverse. \n",
    "\n",
    "And by default, per the documentation, it's false. It will not be reversed by default. But if we change that to true, I bet we can do that.\n",
    "- sorted(iterable,/,key=None, reverse False)\n",
    "- sorted(iterable,/,key=None, reverse True)"
   ]
  },
  {
   "cell_type": "code",
   "execution_count": 9,
   "metadata": {},
   "outputs": [
    {
     "name": "stdout",
     "output_type": "stream",
     "text": [
      "hello, Ron\n",
      "hello, Hermione\n",
      "hello, Harry\n",
      "hello, Draco\n"
     ]
    }
   ],
   "source": [
    "# names.py \n",
    "names = []\n",
    "\n",
    "with open(\"names.txt\") as file:\n",
    "    for line in file:\n",
    "        names.append(line.rstrip())\n",
    "\n",
    "for name in sorted(names, reverse=True):\n",
    "    print(f\"hello, {name}\")"
   ]
  },
  {
   "cell_type": "markdown",
   "metadata": {},
   "source": [
    "### 6.5. Comma-Separated Values CSV\n",
    "Now lets change this file, from names.txt to names.csv\n",
    "\n",
    "CSV stands for Comma-Separated Values. \n",
    "\n",
    "- **.rsplit(\",\")**, split function is going to return to us a ***list*** of all of the individual parts to the left and to the right of those commas.\n",
    "- **[0]**, means that is going to go to the first element of the list, which should hopefully be the student's name.\n",
    "- **[1]**, second element of the list, which should hopefully be the student's house."
   ]
  },
  {
   "cell_type": "code",
   "execution_count": 7,
   "metadata": {},
   "outputs": [
    {
     "name": "stdout",
     "output_type": "stream",
     "text": [
      "Harry is in Gryffindor\n",
      "Ron is in Gryffindor\n",
      "Hermione is in Gryffindor\n",
      "Draco is in Slytherin\n"
     ]
    }
   ],
   "source": [
    "# students.py\n",
    "with open(\"students.csv\") as file:\n",
    "    for line in file:\n",
    "        row = line.rstrip().split(\",\")\n",
    "        print(f\"{row[0]} is in {row[1]}\")"
   ]
  },
  {
   "cell_type": "markdown",
   "metadata": {},
   "source": [
    "- **rstrip**, removes the end of each line in our CSV file. \n",
    "- **split** tells the compiler where to find the end of each of our values in our CSV file. \n",
    "- **row[0]** is the first element in each line of our CSV file. \n",
    "- **row[1]** is the second element in each line in our CSV file.\n",
    "\n",
    "\n",
    "\n",
    "The above code is effective at dividing each line or “record” of our CSV file. However, it’s a bit cryptic to look at if you are unfamiliar with this type of syntax. Python has built-in ability that could further simplify this code. Modify your code as follows:"
   ]
  },
  {
   "cell_type": "code",
   "execution_count": 10,
   "metadata": {},
   "outputs": [
    {
     "name": "stdout",
     "output_type": "stream",
     "text": [
      "Harry is in Gryffindor\n",
      "Ron is in Gryffindor\n",
      "Hermione is in Gryffindor\n",
      "Draco is in Slytherin\n"
     ]
    }
   ],
   "source": [
    "# students.py\n",
    "with open(\"students.csv\")as file:\n",
    "    for line in file:\n",
    "        name, house = line.rstrip().split(\",\")\n",
    "        print(f\"{name} is in {house}\")"
   ]
  },
  {
   "cell_type": "markdown",
   "metadata": {},
   "source": [
    "- Notice that the **split** function actually returns two values: The one before the comma and the one after the comma. Accordingly, we can rely upon that functionality to assign two variables at once instead of one!\n",
    "\n",
    "Now, to provide this list as sorted output"
   ]
  },
  {
   "cell_type": "code",
   "execution_count": 12,
   "metadata": {},
   "outputs": [
    {
     "name": "stdout",
     "output_type": "stream",
     "text": [
      "Draco is in Slytherin\n",
      "Harry is in Gryffindor\n",
      "Hermione is in Gryffindor\n",
      "Ron is in Gryffindor\n"
     ]
    }
   ],
   "source": [
    "# students.py\n",
    "students = [] # empty list [] called students\n",
    "\n",
    "with open(\"students.csv\") as file:\n",
    "    for line in file:\n",
    "        name, house = line.rstrip().split(\",\")\n",
    "        students.append(f\"{name} is in {house}\") #appends the data to the list\n",
    "\n",
    "for student in sorted(students): #shortes the list \n",
    "    print(student)"
   ]
  },
  {
   "cell_type": "markdown",
   "metadata": {},
   "source": [
    "- Notice that we create a **list** called students. We **append** each string to this list. Then, we output a **sorted** version of our list.\n",
    "\n",
    "Recall that Python allows for **dictionaries** where a key can be associated with a value. This code could be further improved"
   ]
  },
  {
   "cell_type": "code",
   "execution_count": 23,
   "metadata": {},
   "outputs": [
    {
     "name": "stdout",
     "output_type": "stream",
     "text": [
      "Harry is in Gryffindor\n",
      "Ron is in Gryffindor\n",
      "Hermione is in Gryffindor\n",
      "Draco is in Slytherin\n"
     ]
    }
   ],
   "source": [
    "# students.py\n",
    "students = [] # empty list [] called students\n",
    "\n",
    "with open(\"students.csv\") as file:\n",
    "    for line in file:\n",
    "        name, house = line.rstrip().split(\",\")\n",
    "        student = {} # empty dictionary {} wich represents the students\n",
    "        student [\"name\"] = name # key 1 of the dictionary, list the name of the initial list\n",
    "        student [\"house\"] = house # key 1 of the dictionary, list the house of the initial list\n",
    "        students.append(student) #appends to the initial students list, the data to the dictionary\n",
    "\n",
    "for student in students:\n",
    "    print(f\"{student['name']} is in {student['house']}\") # prints the current {sudent,dictionary [with his name, list inisde dictionary]}\n",
    "# we are using single quotes '' inside of this f-string because we are usind double quotes outside of the f-string and in this way python don't gets confused"
   ]
  },
  {
   "cell_type": "markdown",
   "metadata": {},
   "source": [
    "- Notice that this produces the desired outcome, minus the sorting of students.\n",
    "\n",
    "Unfortunately, we cannot sort the students as we had prior because **each student is now a dictionary inside of a list**. It would be helpful if Python could sort the students list of student dictionaries that sorts this list of dictionaries by the student’s name.\n",
    "\n",
    "To implement this in our code, make the following changes:"
   ]
  },
  {
   "cell_type": "markdown",
   "metadata": {},
   "source": [
    "### 6.6. Sort keys"
   ]
  },
  {
   "cell_type": "code",
   "execution_count": 27,
   "metadata": {},
   "outputs": [
    {
     "name": "stdout",
     "output_type": "stream",
     "text": [
      "Draco is in Slytherin\n",
      "Harry is in Gryffindor\n",
      "Hermione is in Gryffindor\n",
      "Ron is in Gryffindor\n"
     ]
    }
   ],
   "source": [
    "# students.py\n",
    "students = []\n",
    "\n",
    "with open(\"students.csv\") as file:\n",
    "    for line in file:\n",
    "        name, house = line.rstrip().split(\",\")\n",
    "        students.append({\"name\": name, \"house\": house}) # this achieves the exact same effect in one line instead of the previous three\n",
    "\n",
    "\n",
    "def get_name(student): # this function returns the students name\n",
    "    return student[\"name\"]\n",
    "\n",
    "\n",
    "for student in sorted(students, key=get_name): # the parameter key inside the shorted function allows us to tell the shorted function how tho short this list of dictionaries\n",
    "    print(f\"{student['name']} is in {student['house']}\")\n",
    "\n",
    "# python allows function to pass as arguments in other functions"
   ]
  },
  {
   "cell_type": "markdown",
   "metadata": {},
   "source": [
    "- Notice that sorted needs to know how to get the **key** of each student. **Python allows for a parameter called key where we can define on what “key” the list of students will be sorted**. Therefore, the **get_name** function simply returns the key of student[\"name\"]. Running this program, you will now see that the list is now sorted by name.\n",
    "\n",
    "### 6.7. Lambda Functions\n",
    "\n",
    "Still, our code can be further improved upon. It just so happens that if you are only going to use a function like get_name once, you can simplify your code in the manner presented below. Modify your code as follows:"
   ]
  },
  {
   "cell_type": "code",
   "execution_count": 29,
   "metadata": {},
   "outputs": [
    {
     "name": "stdout",
     "output_type": "stream",
     "text": [
      "Draco is in Slytherin\n",
      "Harry is in Gryffindor\n",
      "Hermione is in Gryffindor\n",
      "Ron is in Gryffindor\n"
     ]
    }
   ],
   "source": [
    "# students.py\n",
    "students = []\n",
    "\n",
    "with open(\"students.csv\") as file:\n",
    "    for line in file:\n",
    "        name, house = line.rstrip().split(\",\")\n",
    "        students.append({\"name\": name, \"house\": house})\n",
    "\n",
    "for student in sorted(students, key=lambda student: student[\"name\"]): # landa function is a function with no name and the line makes the same effect that the def function above\n",
    "    print(f\"{student['name']} is in {student['house']}\")"
   ]
  },
  {
   "cell_type": "markdown",
   "metadata": {},
   "source": [
    "- Notice how we use a **lambda** function, an anonymous function, that says “Hey Python, here is a function that has no name: Given a *student*, access their *name* and return that to the **key**.\n",
    "\n",
    "### 6.8. csv Library\n",
    "\n",
    "Unfortunately, our code is a bit fragile. Suppose that we changed our CSV file such that we indicated where each student grew up. What would be the impact of this upon our program? First, modify your students.csv file as follows:\n",
    "\n",
    "```csv\n",
    "Harry,\"Number Four, Privet Drive\"\n",
    "Ron,The Burrow\n",
    "Draco,Malfoy Manor \n",
    "```\n",
    "- Notice how we are explicitly saying in our CSV file that anything reading it should expect there to be a name value and a home value in each line.\n",
    "We can modify our code to use a part of the **csv library** called a **DictReader** to treat our CSV file with even more flexibilty: \n",
    "- [csv library documentation](docs.python.org/3/library/csv.html)\n",
    "\n",
    "### 6.9. csv.reader\n",
    "- Notice that running our program still does not work properly. Can you guess why?\n",
    "\n",
    "> *The ValueError: too many values to unpack* error produced by the compiler is a result of the fact that we previously created this program expecting the CSV file is split using a , (comma). We could spend more time addressing this, but indeed someone else has already developed a way to “parse” (that is, to read) CSV files!\n",
    "\n",
    "Python’s built-in **csv library** comes with an object called a **reader**. \n",
    "- As the name suggests, we can use a **reader** to read our CSV file despite the extra comma in “Number Four, Privet Drive”. A reader works in a for loop, where each iteration the reader gives us another **row** from our CSV file. \n",
    "- This **row** itself is a **list**, where each value in the list corresponds to an element in that row. \n",
    "- **row[0]**, for example, is the first element of the given row, while **row[1]** is the second element.\n"
   ]
  },
  {
   "cell_type": "code",
   "execution_count": 34,
   "metadata": {},
   "outputs": [
    {
     "name": "stdout",
     "output_type": "stream",
     "text": [
      "Draco is from Slytherin\n",
      "Harry is from Gryffindor\n",
      "Hermione is from Gryffindor\n",
      "Ron is from Gryffindor\n"
     ]
    }
   ],
   "source": [
    "# students.py\n",
    "import csv\n",
    "\n",
    "students = []\n",
    "\n",
    "with open(\"students.csv\") as file:\n",
    "    reader = csv.reader(file)\n",
    "    for row in reader:\n",
    "        students.append({\"name\": row[0], \"home\": row[1]})\n",
    "\n",
    "for student in sorted(students, key=lambda student: student[\"name\"]):\n",
    "    print(f\"{student['name']} is from {student['home']}\")\n",
    "\n"
   ]
  },
  {
   "cell_type": "markdown",
   "metadata": {},
   "source": [
    "- Notice that our program now works as expected.\n",
    "\n",
    "Up until this point, we have been relying upon our program to specifically decide what parts of our CSV file are the names and what parts are the homes. It’s better design, though, to bake this directly into our CSV file by editing it as follows:\n",
    "\n",
    "```csv\n",
    "name,home\n",
    "Harry,\"Number Four, Privet Drive\"\n",
    "Ron,The Burrow\n",
    "Draco,Malfoy Manor\n",
    "```\n",
    "\n",
    "- Notice how we are explicitly saying in our CSV file that anything reading it should expect there to be a name value and a home value in each line.\n",
    "\n",
    "### 6.10. csv.DictReader\n",
    "We can modify our code to use a part of the csv library called a **DictReader** to treat our CSV file with even more flexibilty: "
   ]
  },
  {
   "cell_type": "code",
   "execution_count": 39,
   "metadata": {},
   "outputs": [
    {
     "name": "stdout",
     "output_type": "stream",
     "text": [
      "Draco is from Malfoy Manor\n",
      "Harry is from Number Four, Privet Drive\n",
      "Ron is from The Burrow\n"
     ]
    }
   ],
   "source": [
    "# students.py\n",
    "import csv\n",
    "\n",
    "students = []\n",
    "\n",
    "with open(\"students.csv\") as file:\n",
    "    reader = csv.DictReader(file)\n",
    "    for row in reader:\n",
    "        students.append({\"name\": row[\"name\"], \"home\": row[\"home\"]})\n",
    "\n",
    "for student in sorted(students, key=lambda student: student[\"name\"]):\n",
    "    print(f\"{student['name']} is from {student['home']}\")"
   ]
  },
  {
   "cell_type": "markdown",
   "metadata": {},
   "source": [
    "- Notice that we have replaced **reader** with **DictReader**, which returns one *dictionary* at a time.\n",
    "- Also, notice that **the compiler will directly access the row dictionary**, getting the name and home of each student. This is an example of coding defensively. As long as the person designing the CSV file has inputted the correct header information on the first line, we can access that information using our program.\n",
    "\n",
    "\n",
    "### 6.11. csv.DictWriter\n",
    "Up until this point, we have been reading CSV files. **What if we want to write to a CSV file?**\n",
    "To begin, let’s clean up our files a bit. First, delete the students.csv file by typing rm students.csv in the terminal window. This command will only work if you’re in the same folder as your students.csv file.\n",
    "\n",
    "Then, in students.py, modify your code as follows:"
   ]
  },
  {
   "cell_type": "code",
   "execution_count": 40,
   "metadata": {},
   "outputs": [],
   "source": [
    "import csv\n",
    "\n",
    "name = input(\"What's your name? \")\n",
    "home = input(\"Where's your home? \")\n",
    "\n",
    "with open(\"students.csv\", \"a\") as file:\n",
    "    writer = csv.DictWriter(file, fieldnames=[\"name\", \"home\"])\n",
    "    writer.writerow({\"name\": name, \"home\": home})"
   ]
  },
  {
   "cell_type": "markdown",
   "metadata": {},
   "source": [
    "- Notice how we are leveraging the built-in functionality of **DictWriter**, which takes two parameters: the file being written to and the fieldnames to write. \n",
    "- Further, notice how the writerow function takes a dictionary as its parameter. Quite literally, we are telling the compiler to write a row with two fields called name and home.\n",
    "\n",
    "Note that there are many types of files that you can read from and write to.\n",
    "You can learn more in Python’s documentation of CSV."
   ]
  },
  {
   "cell_type": "markdown",
   "metadata": {},
   "source": [
    "### 6.12. Binary Files and PIL\n",
    "\n",
    "- One more type of file that we will discuss today is a **binary file**. A binary file is simply a collection of ones and zeros. This type of file can store anything including, music and image data.\n",
    "- There is a popular **Python library called PIL** that works well with image files.\n",
    "- Animated GIFs are a popular type of image file that has many image files within it that are played in sequence over and over again, creating a simplistic animation or video effect.\n",
    "- Imagine that we have a series of costumes, as illustrated below.\n",
    "- Here is costume1.gif.\n",
    "- Here is another one called costume2.gif. Notice how the leg positions are slightly different.\n",
    "- Before proceeding, please make sure that you have downloaded the source code files from the course website. It will not be possible for you to code the following without having the two images above in your possession and stored in your IDE."
   ]
  },
  {
   "cell_type": "code",
   "execution_count": 44,
   "metadata": {},
   "outputs": [
    {
     "ename": "FileNotFoundError",
     "evalue": "[Errno 2] No such file or directory: '--f=/home/marta/.local/share/jupyter/runtime/kernel-v3c7e790a1b39bd7c807eeabb6462befdceec6da65.json'",
     "output_type": "error",
     "traceback": [
      "\u001b[0;31m---------------------------------------------------------------------------\u001b[0m",
      "\u001b[0;31mFileNotFoundError\u001b[0m                         Traceback (most recent call last)",
      "Cell \u001b[0;32mIn[44], line 9\u001b[0m\n\u001b[1;32m      6\u001b[0m images \u001b[38;5;241m=\u001b[39m []\n\u001b[1;32m      8\u001b[0m \u001b[38;5;28;01mfor\u001b[39;00m arg \u001b[38;5;129;01min\u001b[39;00m sys\u001b[38;5;241m.\u001b[39margv[\u001b[38;5;241m1\u001b[39m:]:\n\u001b[0;32m----> 9\u001b[0m     image \u001b[38;5;241m=\u001b[39m \u001b[43mImage\u001b[49m\u001b[38;5;241;43m.\u001b[39;49m\u001b[43mopen\u001b[49m\u001b[43m(\u001b[49m\u001b[43marg\u001b[49m\u001b[43m)\u001b[49m\n\u001b[1;32m     10\u001b[0m     images\u001b[38;5;241m.\u001b[39mappend(image)\n\u001b[1;32m     12\u001b[0m images[\u001b[38;5;241m0\u001b[39m]\u001b[38;5;241m.\u001b[39msave(\n\u001b[1;32m     13\u001b[0m     \u001b[38;5;124m\"\u001b[39m\u001b[38;5;124mcostumes.gif\u001b[39m\u001b[38;5;124m\"\u001b[39m, save_all\u001b[38;5;241m=\u001b[39m\u001b[38;5;28;01mTrue\u001b[39;00m, append_images\u001b[38;5;241m=\u001b[39m[images[\u001b[38;5;241m1\u001b[39m]], duration\u001b[38;5;241m=\u001b[39m\u001b[38;5;241m200\u001b[39m, loop\u001b[38;5;241m=\u001b[39m\u001b[38;5;241m0\u001b[39m\n\u001b[1;32m     14\u001b[0m )\n",
      "File \u001b[0;32m~/.local/lib/python3.13/site-packages/PIL/Image.py:3465\u001b[0m, in \u001b[0;36mopen\u001b[0;34m(fp, mode, formats)\u001b[0m\n\u001b[1;32m   3462\u001b[0m     filename \u001b[38;5;241m=\u001b[39m os\u001b[38;5;241m.\u001b[39mfspath(fp)\n\u001b[1;32m   3464\u001b[0m \u001b[38;5;28;01mif\u001b[39;00m filename:\n\u001b[0;32m-> 3465\u001b[0m     fp \u001b[38;5;241m=\u001b[39m \u001b[43mbuiltins\u001b[49m\u001b[38;5;241;43m.\u001b[39;49m\u001b[43mopen\u001b[49m\u001b[43m(\u001b[49m\u001b[43mfilename\u001b[49m\u001b[43m,\u001b[49m\u001b[43m \u001b[49m\u001b[38;5;124;43m\"\u001b[39;49m\u001b[38;5;124;43mrb\u001b[39;49m\u001b[38;5;124;43m\"\u001b[39;49m\u001b[43m)\u001b[49m\n\u001b[1;32m   3466\u001b[0m     exclusive_fp \u001b[38;5;241m=\u001b[39m \u001b[38;5;28;01mTrue\u001b[39;00m\n\u001b[1;32m   3467\u001b[0m \u001b[38;5;28;01melse\u001b[39;00m:\n",
      "\u001b[0;31mFileNotFoundError\u001b[0m: [Errno 2] No such file or directory: '--f=/home/marta/.local/share/jupyter/runtime/kernel-v3c7e790a1b39bd7c807eeabb6462befdceec6da65.json'"
     ]
    }
   ],
   "source": [
    "# costumes.py\n",
    "import sys\n",
    "\n",
    "from PIL import Image\n",
    "\n",
    "images = []\n",
    "\n",
    "for arg in sys.argv[1:]:\n",
    "    image = Image.open(arg)\n",
    "    images.append(image)\n",
    "\n",
    "images[0].save(\n",
    "    \"costumes.gif\", save_all=True, append_images=[images[1]], duration=200, loop=0\n",
    ")"
   ]
  },
  {
   "cell_type": "markdown",
   "metadata": {},
   "source": [
    "- Notice that we import the Image functionality from PIL. \n",
    "- Notice that the first for loop simply loops through the images provided as command-line arguments and stores theme into the list called images. The 1: starts slicing argv at its second element. The last lines of code saves the first image and also appends a second image to it as well, creating an animated gif. Typing python costumes.py costume1.gif costume2.gif into the terminal. Now, type code costumes.gif into the terminal window, and you can now see an animated GIF.\n",
    "You can learn more in Pillow’s documentation of PIL."
   ]
  }
 ],
 "metadata": {
  "kernelspec": {
   "display_name": "usr",
   "language": "python",
   "name": "python3"
  },
  "language_info": {
   "codemirror_mode": {
    "name": "ipython",
    "version": 3
   },
   "file_extension": ".py",
   "mimetype": "text/x-python",
   "name": "python",
   "nbconvert_exporter": "python",
   "pygments_lexer": "ipython3",
   "version": "3.13.1"
  }
 },
 "nbformat": 4,
 "nbformat_minor": 2
}
