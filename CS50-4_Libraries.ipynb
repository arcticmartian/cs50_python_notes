{
 "cells": [
  {
   "cell_type": "markdown",
   "metadata": {},
   "source": [
    "# Week 3. Exceptions\n",
    "SintaxError · ValueError · try · NameError · else · pass · raise\n",
    "\n",
    "Exceptions refer to problems in your code. It means something has gone wrong and you will somehow solve."
   ]
  },
  {
   "cell_type": "markdown",
   "metadata": {},
   "source": [
    "### 3.1. SintaxError\n",
    "Syntax error is a problem that you've got to go back into your code and fix from the get-go. Sintax error must be fixed by the programer itself."
   ]
  },
  {
   "cell_type": "code",
   "execution_count": 2,
   "metadata": {},
   "outputs": [
    {
     "name": "stdout",
     "output_type": "stream",
     "text": [
      "hello, world\n"
     ]
    }
   ],
   "source": [
    "# Program that says hello with a sintax error\n",
    "# print(\"hello, world)\n",
    "print(\"hello, world\")"
   ]
  },
  {
   "cell_type": "markdown",
   "metadata": {},
   "source": [
    "On the other hand, there's a lot of other types of errors in Python that might be described as runtime errors, that happen while your code is running. And there is a posibility to detect when those errors happen because you don't necessarily know, for instance, what input humans are going to type into your program, so you better be ready to accomodate things that they type or misstype."
   ]
  },
  {
   "cell_type": "markdown",
   "metadata": {},
   "source": [
    "### 3.2. ValueError\n",
    "invalid literal for int() with base 10"
   ]
  },
  {
   "cell_type": "code",
   "execution_count": 4,
   "metadata": {},
   "outputs": [
    {
     "name": "stdout",
     "output_type": "stream",
     "text": [
      "x is 5\n"
     ]
    }
   ],
   "source": [
    "x = int(input(\"What's x? \"))\n",
    "print (f\"x is {x}\")"
   ]
  },
  {
   "cell_type": "markdown",
   "metadata": {},
   "source": [
    "The program could fail if the user types something that is not an integer. Wecan solve this problem by converting the input into an integer."
   ]
  },
  {
   "cell_type": "markdown",
   "metadata": {},
   "source": [
    "### 3.3. try\n",
    "try is a keyword that allows the programer to check whether or not something exceptional or erroneous has happened. Basicaly this keyword \"try\" to do something except if something goes wrong."
   ]
  },
  {
   "cell_type": "code",
   "execution_count": null,
   "metadata": {},
   "outputs": [],
   "source": [
    "try:\n",
    "    x = int(input(\"What's x? \"))\n",
    "    print (f\"x is {x}\")\n",
    "except ValueError:\n",
    "    print(\"x is not an integer\")"
   ]
  },
  {
   "cell_type": "markdown",
   "metadata": {},
   "source": [
    "Although, the code above isn't the best way to implement the try keyword. The isue is that we're tryund to do two lines of code, wich is not much, but in order to preaching best practices, we sould really only be \"trying\" to do the oneor very few lines of code that can actually raise an exception that can actyally fail in some way. We can move the print line to the bottom so the try keyword acts in one line."
   ]
  },
  {
   "cell_type": "code",
   "execution_count": null,
   "metadata": {},
   "outputs": [],
   "source": [
    "try:\n",
    "    x = int(input(\"What's x? \"))\n",
    "except ValueError:\n",
    "    print(\"x is not an integer\")\n",
    "\n",
    "print (f\"x is {x}\")"
   ]
  },
  {
   "cell_type": "markdown",
   "metadata": {},
   "source": [
    "But we've introduced a new mistake. The NameError."
   ]
  },
  {
   "cell_type": "markdown",
   "metadata": {},
   "source": [
    "### 3.4. NameError\n",
    "NameError tends to refer to your code, like you're doing something with the name of a variable thar you shouldn't.\n",
    "\n",
    "In the code above, the NameError says that 'x' is not defined altought we defined 'x' in line 2. That's because line 1 creates the ValueError. We catch the ValueError because the ValueError is happening on the right of the equal sign and there is no value copying to the left, so the error is interrupting that whole process."
   ]
  },
  {
   "cell_type": "markdown",
   "metadata": {},
   "source": [
    "### 3.5. else\n",
    "The else function makes sure that only executes the else if tried and succeeded up above"
   ]
  },
  {
   "cell_type": "code",
   "execution_count": null,
   "metadata": {},
   "outputs": [],
   "source": [
    "try:\n",
    "    x = int(input(\"What's x? \"))\n",
    "except ValueError:\n",
    "    print(\"x is not an integer\")\n",
    "else:\n",
    "print (f\"x is {x}\")"
   ]
  },
  {
   "cell_type": "markdown",
   "metadata": {},
   "source": [
    "### 3.6. Repromting, break\n",
    "We can use loops in order to prompt the user for 'x' and if they don't give us a number, prompt them again and again and again. We don't need to just quit out of the program so quickly."
   ]
  },
  {
   "cell_type": "code",
   "execution_count": null,
   "metadata": {},
   "outputs": [],
   "source": [
    "while True:\n",
    "    try:\n",
    "        x = int(input(\"What's x? \"))\n",
    "    except ValueError:\n",
    "        print(\"x is not an integer\")\n",
    "    else:\n",
    "        break\n",
    "    \n",
    "print (f\"x is {x}\")    "
   ]
  },
  {
   "cell_type": "markdown",
   "metadata": {},
   "source": [
    "If we don't break the loop it never ends and keeps asking \"What's x?\"."
   ]
  },
  {
   "cell_type": "markdown",
   "metadata": {},
   "source": [
    "### 3.7. get_int\n",
    "This function tries to get an int from the user."
   ]
  },
  {
   "cell_type": "code",
   "execution_count": 8,
   "metadata": {},
   "outputs": [
    {
     "name": "stdout",
     "output_type": "stream",
     "text": [
      "x is not an integer\n",
      "x is not an integer\n",
      "x is 40\n"
     ]
    }
   ],
   "source": [
    "def main():\n",
    "    x = get_int()\n",
    "    print(f\"x is {x}\")\n",
    "\n",
    "def get_int():\n",
    "    while True:\n",
    "        try:\n",
    "            x = int(input(\"What's x? \"))\n",
    "        except ValueError:\n",
    "            print(\"x is not an integer\")\n",
    "        else:\n",
    "            break\n",
    "    return x\n",
    "\n",
    "main() "
   ]
  },
  {
   "cell_type": "markdown",
   "metadata": {},
   "source": [
    "The program above could be shorter by removing the 'break' and using 'return' instead. So remind, 'return' is used to return values from functions and 'break' is used to break out of loops. But it turns out that 'return' is sort of stronger than 'break', because it will not only break you out of a loop, it will also return a value for you."
   ]
  },
  {
   "cell_type": "code",
   "execution_count": null,
   "metadata": {},
   "outputs": [],
   "source": [
    "def main():\n",
    "    x = get_int()\n",
    "    print(f\"x is {x}\")\n",
    "\n",
    "def get_int():\n",
    "    while True:\n",
    "        try:\n",
    "            x = int(input(\"What's x? \"))\n",
    "        except ValueError:\n",
    "            print(\"x is not an integer\")\n",
    "        else:\n",
    "            return x\n",
    "\n",
    "main() "
   ]
  },
  {
   "cell_type": "markdown",
   "metadata": {},
   "source": [
    "We could make the code even more short by replacing the 'x = ' with 'return'"
   ]
  },
  {
   "cell_type": "code",
   "execution_count": null,
   "metadata": {},
   "outputs": [],
   "source": [
    "def main():\n",
    "    x = get_int()\n",
    "    print(f\"x is {x}\")\n",
    "\n",
    "def get_int():\n",
    "    while True:\n",
    "        try:\n",
    "            return int(input(\"What's x? \"))\n",
    "        except ValueError:\n",
    "            print(\"x is not an integer\")\n",
    "                \n",
    "main() "
   ]
  },
  {
   "cell_type": "markdown",
   "metadata": {},
   "source": [
    "### 3.8. pass\n",
    "Is a keyword that makes the input errors a little less noisy by simply passing and not repeating the mistake again and again."
   ]
  },
  {
   "cell_type": "code",
   "execution_count": null,
   "metadata": {},
   "outputs": [],
   "source": [
    "def main():\n",
    "    x = get_int()\n",
    "    print(f\"x is {x}\")\n",
    "\n",
    "def get_int():\n",
    "    while True:\n",
    "        try:\n",
    "            return int(input(\"What's x? \"))\n",
    "        except ValueError:\n",
    "            pass\n",
    "                \n",
    "main() "
   ]
  },
  {
   "cell_type": "markdown",
   "metadata": {},
   "source": [
    "### 3.9. Function arguments\n",
    "Makes the get_in function a little more reusable. \n",
    "\n",
    "In the code it would be nice if the caler, main(), doesen't have to know what the call-ee us naming its variables and vise versa. \n",
    "- The caller, to call a function, means to use it.\n",
    "- The caller us the function that's using it.\n",
    "- The call-ee is just the function being called.\n",
    "\n",
    "So, it would be nice if x is the same in both places (def_main () and def_get_int())."
   ]
  },
  {
   "cell_type": "code",
   "execution_count": null,
   "metadata": {},
   "outputs": [],
   "source": [
    "def main():\n",
    "    x = get_int(\"What's x? \")\n",
    "    print(f\"x is {x}\")\n",
    "\n",
    "def get_int(prompt):\n",
    "    while True:\n",
    "        try:\n",
    "            return int(input(prompt))\n",
    "        except ValueError:\n",
    "            pass\n",
    "                \n",
    "main() "
   ]
  },
  {
   "cell_type": "markdown",
   "metadata": {},
   "source": [
    "# Problem Set 3. Exceptions"
   ]
  },
  {
   "cell_type": "markdown",
   "metadata": {},
   "source": [
    "### 1. Fuel Gauge\n",
    "In a file called fuel.py, implement a program that prompts the user for a fraction, formatted as X/Y, wherein each of X and Y is an integer, and then outputs, as a percentage rounded to the nearest integer, how much fuel is in the tank. If, though, 1% or less remains, output E instead to indicate that the tank is essentially empty. And if 99% or more remains, output F instead to indicate that the tank is essentially full.\n",
    "\n",
    "If, though, X or Y is not an integer, X is greater than Y, or Y is 0, instead prompt the user again. (It is not necessary for Y to be 4.) Be sure to catch any exceptions like ValueError or ZeroDivisionError.\n"
   ]
  },
  {
   "cell_type": "code",
   "execution_count": 10,
   "metadata": {},
   "outputs": [
    {
     "name": "stdout",
     "output_type": "stream",
     "text": [
      "2\n"
     ]
    }
   ],
   "source": [
    "def main():\n",
    "    x = get_int(\"Fraction: \")\n",
    "    print(x)\n",
    "\n",
    "def get_int(prompt):\n",
    "    while True:\n",
    "        try:\n",
    "            return int(input(prompt))\n",
    "        except ValueError:\n",
    "            pass\n",
    "                \n",
    "main() \n",
    "\n",
    "\n",
    "(interpreter.py)\n",
    "Expression = input(\"Expression: \")\n",
    "\n",
    "# Converts the input into variables\n",
    "x, y, z = Expression.split(\" \")\n",
    "x1 = float(x)\n",
    "z1 = float(z)\n",
    "\n",
    "# Math operation\n",
    "if y == \"+\":\n",
    "    output = x1 + z1\n",
    "if y == \"-\":\n",
    "    output = x1 - z1\n",
    "if y == \"/\":\n",
    "    output = x1 / z1\n",
    "if y == \"*\":\n",
    "    output = x1 * z1\n",
    "print(output)\n",
    "\n"
   ]
  }
 ],
 "metadata": {
  "kernelspec": {
   "display_name": "Python 3",
   "language": "python",
   "name": "python3"
  },
  "language_info": {
   "codemirror_mode": {
    "name": "ipython",
    "version": 3
   },
   "file_extension": ".py",
   "mimetype": "text/x-python",
   "name": "python",
   "nbconvert_exporter": "python",
   "pygments_lexer": "ipython3",
   "version": "3.12.1"
  }
 },
 "nbformat": 4,
 "nbformat_minor": 2
}
