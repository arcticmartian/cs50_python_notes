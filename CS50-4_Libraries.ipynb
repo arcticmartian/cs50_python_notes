{
 "cells": [
  {
   "cell_type": "markdown",
   "metadata": {},
   "source": [
    "# Week 4. Libraries\n",
    "MODULES: random · import · from · stadistics · \n",
    "COMAND-LINE ARGUMENTS: sys · sys.argv · IndexError · sys.exit\n",
    "PACKAGES: pip · cowsay\n",
    "APIs: request\n",
    "JSON: __ name __\n",
    "\n",
    "Libraries are files of code that you can use in your own programs."
   ]
  },
  {
   "cell_type": "markdown",
   "metadata": {},
   "source": [
    "### 4.1. Modules\n",
    "A module in python is just a library that tipically has one or more functions or other features built into it. It's purpose is to encourage reusability of code.\n",
    "\n",
    "- Python has a module called ***random.py***\n",
    "- Documentation for this module: [docs.python.org/3/library/random.html](docs.python.org/3/library/random.html)"
   ]
  },
  {
   "cell_type": "markdown",
   "metadata": {},
   "source": [
    "### 4.2. import\n",
    "Is a keyword in python that allows you to import the contents of the functions form some module.\n",
    "\n",
    "Checking the random module documentation we can see a function called 'random.choice(seq)' witch mens:\n",
    "- ***random***: module\n",
    "- ***choice(seq)***: function(parameter), sec means sequence"
   ]
  },
  {
   "cell_type": "code",
   "execution_count": 5,
   "metadata": {},
   "outputs": [
    {
     "name": "stdout",
     "output_type": "stream",
     "text": [
      "tails\n"
     ]
    }
   ],
   "source": [
    "# Program that simulates flipping a coin.\n",
    "\n",
    "# Import the random library\n",
    "import random\n",
    "# flip a coin, choose randomly between heads and tails, with 50 % of probability\n",
    "coin = random.choice([\"heads\", \"tails\"])\n",
    "print(coin)"
   ]
  },
  {
   "cell_type": "markdown",
   "metadata": {},
   "source": [
    "### 4.3. from\n",
    "***from*** is an alternative keyword that allows to use the import keyword alone. for is more specific than import, so using this new keyword, we don't have to import everything that's in the module. "
   ]
  },
  {
   "cell_type": "code",
   "execution_count": 6,
   "metadata": {},
   "outputs": [
    {
     "name": "stdout",
     "output_type": "stream",
     "text": [
      "tails\n"
     ]
    }
   ],
   "source": [
    "# Program that simulates flipping a coin.\n",
    "\n",
    "# From the random library import the choice function\n",
    "from random import choice\n",
    "# flip a coin, choose randomly between heads and tails, with 50 % of probability\n",
    "coin = random.choice([\"heads\", \"tails\"])\n",
    "print(coin)"
   ]
  },
  {
   "cell_type": "markdown",
   "metadata": {},
   "source": [
    "### 4.4. randint, shuffle\n",
    "- ***random.randint(a, b)***\n",
    "Is another function in the random module that implies get back a random int between a and b inclusive."
   ]
  },
  {
   "cell_type": "code",
   "execution_count": 3,
   "metadata": {},
   "outputs": [
    {
     "name": "stdout",
     "output_type": "stream",
     "text": [
      "10\n"
     ]
    }
   ],
   "source": [
    "# Program that simulates choosing a random number\n",
    "\n",
    "# From the random library import the choice function\n",
    "import random\n",
    "# choose randomly number between 1 and 10\n",
    "number = random.randint(1, 10)\n",
    "print(number)"
   ]
  },
  {
   "cell_type": "markdown",
   "metadata": {},
   "source": [
    "- ***random.suffle(x)***\n",
    "This function in the random module, takes in a list of values and just shuffles them up."
   ]
  },
  {
   "cell_type": "code",
   "execution_count": 2,
   "metadata": {},
   "outputs": [
    {
     "name": "stdout",
     "output_type": "stream",
     "text": [
      "king\n",
      "queen\n",
      "jack\n"
     ]
    }
   ],
   "source": [
    "# Program that simulates flipping a cards.\n",
    "\n",
    "# From the random library import the choice function\n",
    "import random\n",
    "# list of cards\n",
    "cards = [\"jack\", \"queen\", \"king\"]\n",
    "# shuffle the cards\n",
    "random.shuffle(cards)\n",
    "for card in cards:\n",
    "    print(card)"
   ]
  },
  {
   "cell_type": "markdown",
   "metadata": {},
   "source": [
    "### 4.5. statistics\n",
    "***statistics*** is another python library that contains all sorts of functions for doing more statistical. For example, means, medians, modes, ...\n",
    "\n",
    "- ***statistics***: module\n",
    "- Documentation for this module: [docs.python.org/3/library/statistics.html](docs.python.org/3/library/statistics.html)"
   ]
  },
  {
   "cell_type": "code",
   "execution_count": 1,
   "metadata": {},
   "outputs": [
    {
     "name": "stdout",
     "output_type": "stream",
     "text": [
      "95\n"
     ]
    }
   ],
   "source": [
    "# Imports the statistics module\n",
    "import statistics\n",
    "# calculates the mean of two numbers\n",
    "print(statistics.mean([100, 90]))"
   ]
  },
  {
   "cell_type": "markdown",
   "metadata": {},
   "source": [
    "### 4.6. command-line arguments\n",
    "The ***comand-line arguments*** is a feature in python that allow you to provide input not when prompted inside of a program, as happens whenever we call the python function input, but rather, there's this feature, command-line arguments of programs, that allows you to provide arguments that is input to the program of just when you're executing at the command-line. So up until now, for instance, recall that we've generally run 'python something.py' but we could executed words or phrases after the name of the file.\n",
    "\n",
    "When you're running programs in a command-line environment, you can provide any number of words or number of phrases after de command that you're typing. And all of those will be passed in as inputs to the program itself.\n",
    "\n",
    "The module \"***sys***\" short for system, contains a whole lot of functionality that's specific to the system itself and the commands that you are typing.\n",
    "- ***sys***: mudule\n",
    "- Documentation for this module: [docs.python.org/3/library/sys.html](docs.python.org/3/library/sys.html)\n",
    "\n",
    "- ***sys.argv***\n",
    "***sys.argv*** is a variable in the sys module. It syands for argument vector, which is a fancy way of describing the list of all of the words that the human typed in at their prompt before they hit enter. This variable is a list, which means that the first element is going to be the first word that you type, the second is going to be the second word, ..."
   ]
  },
  {
   "cell_type": "code",
   "execution_count": 9,
   "metadata": {},
   "outputs": [
    {
     "name": "stdout",
     "output_type": "stream",
     "text": [
      "hello, my name is --f=c:\\Users\\mdg7m\\AppData\\Roaming\\jupyter\\runtime\\kernel-v2-13840ETw4iCN0EBmb.json\n"
     ]
    }
   ],
   "source": [
    "# program name.py\n",
    "# Imports the sys module\n",
    "import sys\n",
    "# Program that says Hello, my name is followed by whatever is in sys.argv[], which is a list \n",
    "print(\"hello, my name is\", sys.argv[1])\n",
    "\n",
    "# To launch the program:\n",
    "#python name.py name"
   ]
  },
  {
   "cell_type": "markdown",
   "metadata": {},
   "source": [
    "**IndexError** if you don't add your name in the launch of the program."
   ]
  },
  {
   "cell_type": "code",
   "execution_count": null,
   "metadata": {},
   "outputs": [],
   "source": [
    "# program name.py\n",
    "# Imports the sys module\n",
    "import sys\n",
    "# Program that says Hello, my name is followed by whatever is in sys.argv[], which is a list \n",
    "try:\n",
    "    print(\"hello, my name is\", sys.argv[1])\n",
    "except IndexError:\n",
    "    print(\"To few arguments\")\n",
    "\n",
    "# To launch the program:\n",
    "#python name.py name"
   ]
  },
  {
   "cell_type": "code",
   "execution_count": null,
   "metadata": {},
   "outputs": [],
   "source": [
    "# program name.py\n",
    "# Imports the sys module\n",
    "import sys\n",
    "# Program that says Hello, my name is followed by whatever is in sys.argv[], which is a list \n",
    "if len(sys.argv) < 2:\n",
    "    print(\"To few arguments\")\n",
    "elif len(sys.argv) > 2:\n",
    "    print(\"To many arguments\")´\n",
    "else:\n",
    "    print(\"hello, my name is\", sys.argv[1])\n",
    "\n",
    "# To launch the program:\n",
    "#python name.py name"
   ]
  },
  {
   "cell_type": "markdown",
   "metadata": {},
   "source": [
    "### 4.7. sys.exit"
   ]
  },
  {
   "cell_type": "markdown",
   "metadata": {},
   "source": [
    "The previous program is good bur is weird set. It's better to divide the conditionals that check for the errors and the program itself."
   ]
  },
  {
   "cell_type": "code",
   "execution_count": null,
   "metadata": {},
   "outputs": [],
   "source": [
    "# program name.py\n",
    "# Imports the sys module\n",
    "import sys\n",
    "# Program that says Hello, my name is followed by whatever is in sys.argv[], which is a list \n",
    "\n",
    "# Check for errors\n",
    "if len(sys.argv) < 2:\n",
    "    print(\"To few arguments\")\n",
    "elif len(sys.argv) > 2:\n",
    "    print(\"To many arguments\")´\n",
    "\n",
    "# Print name tag\n",
    "print(\"hello, my name is\", sys.argv[1])\n",
    "\n",
    "# To launch the program:\n",
    "#python name.py name"
   ]
  },
  {
   "cell_type": "markdown",
   "metadata": {},
   "source": [
    "Gettinf rid of the else, we are introducing a bug called **IndexError**.\n",
    "\n",
    "***sys.exit*** allows to exit the program. This function can take different types of input, but if we pass out a string, it will print that string for us and exiting for programs like this "
   ]
  },
  {
   "cell_type": "code",
   "execution_count": null,
   "metadata": {},
   "outputs": [],
   "source": [
    "# program name.py\n",
    "# Imports the sys module\n",
    "import sys\n",
    "# Program that says Hello, my name is followed by whatever is in sys.argv[], which is a list \n",
    "if len(sys.argv) < 2:\n",
    "    sys.exit(\"To few arguments\")\n",
    "elif len(sys.argv) > 2:\n",
    "    sys.exit(\"To many arguments\")´\n",
    "\n",
    "print(\"hello, my name is\", sys.argv[1])\n",
    "\n",
    "# To launch the program:\n",
    "#python name.py name"
   ]
  },
  {
   "cell_type": "markdown",
   "metadata": {},
   "source": [
    "### 4.8. slices\n",
    "***slices*** is a technical term. To take a slice of a list means to take a subset of a data structure like a list."
   ]
  },
  {
   "cell_type": "code",
   "execution_count": null,
   "metadata": {},
   "outputs": [],
   "source": [
    "# program name.py\n",
    "# Imports the sys module\n",
    "import sys\n",
    "# Program that says Hello, my name is followed by whatever is in sys.argv[], which is a list \n",
    "if len(sys.argv) < 2:\n",
    "    sys.exit(\"To few arguments\")\n",
    "\n",
    "for arg in sys.argv[1:]:\n",
    "    print(\"hello, my name is\", arg)\n",
    "\n",
    "# To launch the program:\n",
    "#python name.py name  "
   ]
  },
  {
   "cell_type": "markdown",
   "metadata": {},
   "source": [
    "### 4.9. packages\n",
    " **packages** in python is a module essentially that's implemented in a folder, not just a file but a folder. A package is a third-party librart that we can install in our server to gain access to even more functionality.\n",
    "\n",
    " One of the locations wherre we can get all of these packages is called the **PyPI** website, ***Python Package Index***, [pypi.org](pypi.org). This website allows to install all sorts of pacages.\n",
    "\n",
    " - ***cowsay***: cowsay is a package in Python that allows you to have a cow sat something on your screen.\n",
    " - cowsay documentation: [pypi.org/project/cowsay](pypi.org/project/cowsay)\n",
    "\n",
    "\n",
    " But, how do you actually get the package into your system?\n",
    "\n",
    " Nowadays, a lot of languages has what's called its own package manager.\n",
    " - ***pip***: pip is a program that comes with python and allows you to install packages onto your PCs.\n",
    "\n",
    "\n"
   ]
  },
  {
   "cell_type": "code",
   "execution_count": null,
   "metadata": {},
   "outputs": [],
   "source": [
    "pip install cowsay"
   ]
  },
  {
   "cell_type": "code",
   "execution_count": null,
   "metadata": {},
   "outputs": [],
   "source": [
    "import cowsay\n",
    "import sys\n",
    "\n",
    "if len(sys.argv) == 2:\n",
    "    cowsay.cow(\"hello, \" + sys.argv[1])\n",
    "\n",
    "# To launch the program:\n",
    "#python name.py name     "
   ]
  },
  {
   "cell_type": "code",
   "execution_count": null,
   "metadata": {},
   "outputs": [],
   "source": [
    "import cowsay\n",
    "import sys\n",
    "\n",
    "if len(sys.argv) == 2:\n",
    "    cowsay.trex(\"hello, \" + sys.argv[1])\n",
    "\n",
    "# To launch the program:\n",
    "#python name.py name   "
   ]
  },
  {
   "cell_type": "markdown",
   "metadata": {},
   "source": [
    "### 4.10. APIs, requests, JSON\n",
    "\n",
    "- ***APIs***: Application Programming Interface. \n",
    "\n",
    "**APIs** can refer to python files and functions, but often, **APIs** refer to third-party services that we can write code that talk to. Many **APIs** live on the internet, so we can write code that in effect pretends to be a browser, connects to that third-party API on a server, and download some data that we can incorporate in our own program.\n",
    "\n",
    "But how do we do this?\n",
    "\n",
    "Python has a very popukar package that we can install via pip called ***requests***.\n",
    "- ***request***: request is a library that allows you to make web request using python code.\n",
    "- request documentation: [pypi.org/project/requests](pypi.org/project/requests)\n",
    "\n",
    "\n"
   ]
  },
  {
   "cell_type": "code",
   "execution_count": null,
   "metadata": {},
   "outputs": [],
   "source": [
    "pip install request"
   ]
  },
  {
   "cell_type": "markdown",
   "metadata": {},
   "source": [
    "For this, we are going to use the itunes API,\n",
    "https://itunes.apple.com/search?entity=song&limit=1&term=weezer\n",
    "\n",
    "searching that we download this:\n",
    " > {\n",
    " \"resultCount\":1,\n",
    " \"results\": [\n",
    "{\"wrapperType\":\"track\", \"kind\":\"song\", \"artistId\":115234, \"collectionId\":1440878798, \"trackId\":1440879332, \"artistName\":\"Weezer\", \"collectionName\":\"Weezer\", \"trackName\":\"Undone - The Sweater Song\", \"collectionCensoredName\":\"Weezer\", \"trackCensoredName\":\"Undone - The Sweater Song\", \"artistViewUrl\":\"https://music.apple.com/us/artist/weezer/115234?uo=4\", \"collectionViewUrl\":\"https://music.apple.com/us/album/undone-the-sweater-song/1440878798?i=1440879332&uo=4\", \"trackViewUrl\":\"https://music.apple.com/us/album/undone-the-sweater-song/1440878798?i=1440879332&uo=4\", \n",
    "\"previewUrl\":\"https://audio-ssl.itunes.apple.com/itunes-assets/AudioPreview221/v4/33/69/e2/3369e22d-32fe-3d85-7702-107e25fca82b/mzaf_16796572868702604469.plus.aac.p.m4a\", \"artworkUrl30\":\"https://is1-ssl.mzstatic.com/image/thumb/Music221/v4/d0/16/da/d016da24-577e-b584-3a5a-116efb5ca362/16UMGIM52971.rgb.jpg/30x30bb.jpg\", \"artworkUrl60\":\"https://is1-ssl.mzstatic.com/image/thumb/Music221/v4/d0/16/da/d016da24-577e-b584-3a5a-116efb5ca362/16UMGIM52971.rgb.jpg/60x60bb.jpg\", \"artworkUrl100\":\"https://is1-ssl.mzstatic.com/image/thumb/Music221/v4/d0/16/da/d016da24-577e-b584-3a5a-116efb5ca362/16UMGIM52971.rgb.jpg/100x100bb.jpg\", \"collectionPrice\":10.99, \"trackPrice\":1.29, \"releaseDate\":\"1994-05-10T12:00:00Z\", \"collectionExplicitness\":\"notExplicit\", \"trackExplicitness\":\"notExplicit\", \"discCount\":1, \"discNumber\":1, \"trackCount\":10, \"trackNumber\":5, \"trackTimeMillis\":304987, \"country\":\"USA\", \"currency\":\"USD\", \"primaryGenreName\":\"Pop\", \"isStreamable\":true}]\n",
    "}\n",
    "\n",
    "This is a ***JSON***,\n",
    "- ***JSON***:  *JabaScript Objet Notation*, which is technically related to another progamming language, JavaScript. Nowadays, JSON is used as a language agnostic format for exchanging data between computers."
   ]
  },
  {
   "cell_type": "code",
   "execution_count": 11,
   "metadata": {},
   "outputs": [
    {
     "name": "stdout",
     "output_type": "stream",
     "text": [
      "{'resultCount': 0, 'results': []}\n"
     ]
    }
   ],
   "source": [
    "# program: itunes.py\n",
    "import requests\n",
    "import sys\n",
    "\n",
    "if len(sys.argv) != 2:\n",
    "    sys.exit()\n",
    "\n",
    "response = requests.get(\"https://itunes.apple.com/search?entity=song&limit=1&term=\" + sys.argv[1])\n",
    "print(response.json())\n",
    "\n",
    "# To launch the program:\n",
    "#python itunes.py name"
   ]
  },
  {
   "cell_type": "markdown",
   "metadata": {},
   "source": [
    "- ***request.get()***: function inside of the *request library* that will get some response from a server.\n",
    "- ***response.json()***: function inside of the *request library* that ensures that the data we are getting bacl is formatted on our screen as JSON, but as a Python *dictionary* ***{}*** whith their *lists* ***[]***, *quotes* ***''*** to represent the *keys* in the dictionary and after the colon ***:*** it stores the value of that *key*\n",
    "\n",
    "We can use another library in Python that allow us to format our data.\n",
    "- ***json***: json is another library in Python that allows us to manipulate ***JSON*** data, and will allow us to format our data a little more cleanly.\n",
    "- JSON documentation: [docs.python.org/3/library/json.html](docs.python.org/3/library/json.html)\n",
    "- ***json.dumps***(response.json()): function that response.json return value. Basically this function pretty printing the exact same information.\n",
    "- json.dumps(response.json(), ***indent=2***): indent=2 is going to indent everything at least two spaces"
   ]
  },
  {
   "cell_type": "code",
   "execution_count": null,
   "metadata": {},
   "outputs": [],
   "source": [
    "# program: itunes.py\n",
    "import json\n",
    "import requests\n",
    "import sys\n",
    "\n",
    "if len(sys.argv) != 2:\n",
    "    sys.exit()\n",
    "\n",
    "response = requests.get(\"https://itunes.apple.com/search?entity=song&limit=1&term=\" + sys.argv[1])\n",
    "\n",
    "# jason.dumps ensures that the data we're getting back is formatted \n",
    "print(json.dumps(response.json(), indent=2))\n",
    "\n",
    "# To launch the program:\n",
    "#python itunes.py artist_name"
   ]
  },
  {
   "cell_type": "markdown",
   "metadata": {},
   "source": [
    "In the output we can see the dictionary with its list, and inside of that list we can see another dictionary with information such as *trackID*, *artistName*, *trackName*, ...\n",
    "\n",
    "So in order to clean a little bit the output we can search for one of these keys, like *trackName*, to obtain the tracks of the band we are searching in the itunes API."
   ]
  },
  {
   "cell_type": "code",
   "execution_count": 12,
   "metadata": {},
   "outputs": [],
   "source": [
    "# program: itunes.py\n",
    "import json\n",
    "import requests\n",
    "import sys\n",
    "\n",
    "if len(sys.argv) != 2:\n",
    "    sys.exit()\n",
    "\n",
    "# Change the limit of result from 1 to 50, &limit=1 -> &limit=50\n",
    "response = requests.get(\"https://itunes.apple.com/search?entity=song&limit=50&term=\" + sys.argv[1])\n",
    "\n",
    "# o for object\n",
    "o = response.json()\n",
    "for result in o[\"results\"]:\n",
    "    print(result[\"trackName\"])\n",
    "\n",
    "# To launch the program:\n",
    "#python itunes.py artist_name"
   ]
  },
  {
   "cell_type": "markdown",
   "metadata": {},
   "source": [
    "### 4.11. Custom Libraries\n",
    "We can make our own Python module or package."
   ]
  },
  {
   "cell_type": "code",
   "execution_count": 13,
   "metadata": {},
   "outputs": [
    {
     "name": "stdout",
     "output_type": "stream",
     "text": [
      "hello, world\n",
      "goodbye, world\n"
     ]
    }
   ],
   "source": [
    "# program: saying.py\n",
    "def main():\n",
    "    hello(\"world\")\n",
    "    goodbye(\"world\")\n",
    "\n",
    "def hello(name):\n",
    "    print(f\"hello, {name}\")\n",
    "\n",
    "def goodbye(name):\n",
    "    print(f\"goodbye, {name}\")\n",
    "\n",
    "# __name__ \n",
    "if __name__ == \"__main__\":\n",
    "    main()"
   ]
  },
  {
   "cell_type": "markdown",
   "metadata": {},
   "source": [
    "- ***__ name __*** is a special variable whose value is automatically set by python to be quote, unquote \"**main**\" when you run a file from the **command line**"
   ]
  },
  {
   "cell_type": "code",
   "execution_count": 14,
   "metadata": {},
   "outputs": [
    {
     "ename": "ModuleNotFoundError",
     "evalue": "No module named 'sayings'",
     "output_type": "error",
     "traceback": [
      "\u001b[1;31m---------------------------------------------------------------------------\u001b[0m",
      "\u001b[1;31mModuleNotFoundError\u001b[0m                       Traceback (most recent call last)",
      "Cell \u001b[1;32mIn[14], line 4\u001b[0m\n\u001b[0;32m      1\u001b[0m \u001b[38;5;66;03m# program: say.py\u001b[39;00m\n\u001b[0;32m      2\u001b[0m \u001b[38;5;28;01mimport\u001b[39;00m \u001b[38;5;21;01msys\u001b[39;00m\n\u001b[1;32m----> 4\u001b[0m \u001b[38;5;28;01mfrom\u001b[39;00m \u001b[38;5;21;01msayings\u001b[39;00m \u001b[38;5;28;01mimport\u001b[39;00m hello\n\u001b[0;32m      6\u001b[0m \u001b[38;5;28;01mif\u001b[39;00m \u001b[38;5;28mlen\u001b[39m(sys\u001b[38;5;241m.\u001b[39margv) \u001b[38;5;241m==\u001b[39m \u001b[38;5;241m2\u001b[39m:\n\u001b[0;32m      7\u001b[0m     hello(sys\u001b[38;5;241m.\u001b[39margv[\u001b[38;5;241m1\u001b[39m])\n",
      "\u001b[1;31mModuleNotFoundError\u001b[0m: No module named 'sayings'"
     ]
    }
   ],
   "source": [
    "# program: say.py\n",
    "import sys\n",
    "\n",
    "# sayings is the library we created and we can use it in local mode with the from function\n",
    "from sayings import hello\n",
    "\n",
    "if len(sys.argv) == 2:\n",
    "    hello(sys.argv[1])\n",
    "\n",
    "# To launch the program:\n",
    "#python say.py name"
   ]
  }
 ],
 "metadata": {
  "kernelspec": {
   "display_name": "Python 3",
   "language": "python",
   "name": "python3"
  },
  "language_info": {
   "codemirror_mode": {
    "name": "ipython",
    "version": 3
   },
   "file_extension": ".py",
   "mimetype": "text/x-python",
   "name": "python",
   "nbconvert_exporter": "python",
   "pygments_lexer": "ipython3",
   "version": "3.12.1"
  }
 },
 "nbformat": 4,
 "nbformat_minor": 2
}
