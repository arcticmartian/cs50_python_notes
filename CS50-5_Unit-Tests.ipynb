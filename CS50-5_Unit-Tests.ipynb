{
 "cells": [
  {
   "cell_type": "markdown",
   "metadata": {},
   "source": [
    "# Week 5. Unit Test\n",
    "assert · AssertionError · pytest · Packages · __init__.py\n",
    "\n",
    "By writting our own Unit Test, we can write a code to solve the problems we want to solve, and also, we can write a little extra code to test the code that we wrote."
   ]
  },
  {
   "cell_type": "markdown",
   "metadata": {},
   "source": [
    "### 5.1. Testing calculator.py\n"
   ]
  },
  {
   "cell_type": "code",
   "execution_count": 1,
   "metadata": {},
   "outputs": [
    {
     "name": "stdout",
     "output_type": "stream",
     "text": [
      "x scuared is 16\n"
     ]
    }
   ],
   "source": [
    "# calculator.py\n",
    "\n",
    "def main():\n",
    "    x = int(input(\"What's x\"))\n",
    "    print(\"x scuared is\", square(x))\n",
    "\n",
    "def square(n):\n",
    "    return n * n\n",
    "\n",
    "main()"
   ]
  },
  {
   "cell_type": "code",
   "execution_count": null,
   "metadata": {},
   "outputs": [],
   "source": [
    "# calculator.py\n",
    "\n",
    "def main():\n",
    "    x = int(input(\"What's x\"))\n",
    "    print(\"x scuared is\", square(x))\n",
    "\n",
    "def square(n):\n",
    "    return n * n\n",
    "\n",
    "# makes sure that main isn't always called\n",
    "if__name__ == \"__main__\":\n",
    "    main()"
   ]
  },
  {
   "cell_type": "markdown",
   "metadata": {},
   "source": [
    "By implementing this habit we want to make sure that when we import the square function, perhaps from another file or library, main is not just automatically called itself.\n",
    "\n",
    "So, now we have to write a program whose sole purpose in life is to test this program.\n",
    "In our calculator.py program we call main() conditionally so that we can safely import one or more things from this file in another file. For example, a new program called test_calculator.py, whose purpose in life is to test calculator.py program by testing its functionality, the square function."
   ]
  },
  {
   "cell_type": "code",
   "execution_count": null,
   "metadata": {},
   "outputs": [],
   "source": [
    "# test_calculator.py\n",
    "\n",
    "from calculator.py import square()\n",
    "\n",
    "def main():\n",
    "    test_square()\n",
    "\n",
    "def test_square():\n",
    "    if square(2) != 4:\n",
    "        print(\"2 squared was not 4\")\n",
    "    if square(3) != 9:\n",
    "        print(\"3 squared was not 9\")\n",
    "\n",
    "if__name__ == \"__main__\":\n",
    "    main()"
   ]
  },
  {
   "cell_type": "markdown",
   "metadata": {},
   "source": [
    "### 5.2. assert\n",
    "Is a keyword in python that allows you to assert that something is true, to sort of boldly claim that something is true. And if it is, nothing's going to happend. But if isn't true we are going to see an error message."
   ]
  },
  {
   "cell_type": "code",
   "execution_count": 5,
   "metadata": {},
   "outputs": [
    {
     "name": "stdout",
     "output_type": "stream",
     "text": [
      "tails\n"
     ]
    }
   ],
   "source": [
    "# test_calculator.py\n",
    "\n",
    "from calculator.py import square()\n",
    "\n",
    "def main():\n",
    "    test_square()\n",
    "\n",
    "def test_square():\n",
    "    assert square(2) == 4\n",
    "    assert square(3) == 9\n",
    "\n",
    "if__name__ == \"__main__\":\n",
    "    main()"
   ]
  },
  {
   "cell_type": "markdown",
   "metadata": {},
   "source": [
    "### 5.3. AssertionError\n",
    "We can abord this error with the exceptions in python (try)"
   ]
  },
  {
   "cell_type": "code",
   "execution_count": 6,
   "metadata": {},
   "outputs": [
    {
     "name": "stdout",
     "output_type": "stream",
     "text": [
      "tails\n"
     ]
    }
   ],
   "source": [
    "# test_calculator.py\n",
    "\n",
    "from calculator.py import square()\n",
    "\n",
    "def main():\n",
    "    test_square()\n",
    "\n",
    "def test_square():\n",
    "    try:\n",
    "        assert square(2) == 4\n",
    "    except AssertionError:\n",
    "        print(\"2 squared was not 4\")\n",
    "    try:\n",
    "        assert square(3) == 9\n",
    "    except AssertionError:\n",
    "        print(\"3 squared was not 9\")\n",
    "\n",
    "if__name__ == \"__main__\":\n",
    "    main()"
   ]
  },
  {
   "cell_type": "markdown",
   "metadata": {},
   "source": [
    "### 5.4. pytest\n",
    "\n",
    "pytest is a third party program that we can download and install that will automate the testing of our code, so long as we write the tests.\n",
    "\n",
    "This library adopts some convenions so we don't have to write as many lines of code manually.\n",
    "\n",
    "Unit testing is just a formal way of describing testing individual units of our program, like functions."
   ]
  },
  {
   "cell_type": "code",
   "execution_count": null,
   "metadata": {},
   "outputs": [],
   "source": [
    "pip install pytest"
   ]
  },
  {
   "cell_type": "code",
   "execution_count": null,
   "metadata": {},
   "outputs": [],
   "source": [
    "# To launch pytest\n",
    "pytest test_calculator.py"
   ]
  }
 ],
 "metadata": {
  "kernelspec": {
   "display_name": "Python 3",
   "language": "python",
   "name": "python3"
  },
  "language_info": {
   "codemirror_mode": {
    "name": "ipython",
    "version": 3
   },
   "file_extension": ".py",
   "mimetype": "text/x-python",
   "name": "python",
   "nbconvert_exporter": "python",
   "pygments_lexer": "ipython3",
   "version": "3.12.5"
  }
 },
 "nbformat": 4,
 "nbformat_minor": 2
}
